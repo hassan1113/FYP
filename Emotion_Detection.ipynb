{
 "cells": [
  {
   "cell_type": "code",
   "execution_count": 34,
   "id": "e56582ce-fa81-4652-bbfd-b4602882e015",
   "metadata": {},
   "outputs": [],
   "source": [
    "from keras.utils import to_categorical\n",
    "from keras.models import Sequential\n",
    "from keras.layers import Dense, Conv2D, Dropout, Flatten, MaxPooling2D\n",
    "import os\n",
    "import numpy as np\n",
    "import pandas as pd\n",
    "from tqdm.notebook import tqdm"
   ]
  },
  {
   "cell_type": "code",
   "execution_count": 45,
   "id": "d4c1500a-bc9f-427f-bf50-2f69202be3b5",
   "metadata": {},
   "outputs": [],
   "source": [
    "from tensorflow.keras.preprocessing.image import load_img"
   ]
  },
  {
   "cell_type": "code",
   "execution_count": 35,
   "id": "d7bd24eb-0066-49d7-8a87-effde9a657c1",
   "metadata": {},
   "outputs": [],
   "source": [
    "TRAIN_DIR = 'images/train'\n",
    "TEST_DIR = 'images/test'"
   ]
  },
  {
   "cell_type": "code",
   "execution_count": 36,
   "id": "377078b6-369b-45d0-815b-f14a011c5227",
   "metadata": {},
   "outputs": [],
   "source": [
    "def createdataframe(dir):\n",
    "    image_paths = []\n",
    "    labels = []\n",
    "    for label in os.listdir(dir):\n",
    "        for imagename in os.listdir(os.path.join(dir, label)):\n",
    "            image_paths.append(os.path.join(dir, label, imagename))\n",
    "            labels.append(label)\n",
    "        print(label, \"completed\")\n",
    "    return image_paths, labels"
   ]
  },
  {
   "cell_type": "code",
   "execution_count": 37,
   "id": "341236f6-aaea-4ce3-819f-5df79c4dac8e",
   "metadata": {},
   "outputs": [
    {
     "name": "stdout",
     "output_type": "stream",
     "text": [
      "angry completed\n",
      "disgust completed\n",
      "fear completed\n",
      "happy completed\n",
      "neutral completed\n",
      "sad completed\n",
      "surprise completed\n"
     ]
    }
   ],
   "source": [
    "train = pd.DataFrame()\n",
    "train['image'], train['label'] = createdataframe(TRAIN_DIR)\n"
   ]
  },
  {
   "cell_type": "code",
   "execution_count": 38,
   "id": "fbd179fa-172c-495a-ba3a-74f7efb42f8d",
   "metadata": {},
   "outputs": [
    {
     "name": "stdout",
     "output_type": "stream",
     "text": [
      "                                image     label\n",
      "0            images/train\\angry\\0.jpg     angry\n",
      "1            images/train\\angry\\1.jpg     angry\n",
      "2           images/train\\angry\\10.jpg     angry\n",
      "3        images/train\\angry\\10002.jpg     angry\n",
      "4        images/train\\angry\\10016.jpg     angry\n",
      "...                               ...       ...\n",
      "28816  images/train\\surprise\\9969.jpg  surprise\n",
      "28817  images/train\\surprise\\9985.jpg  surprise\n",
      "28818  images/train\\surprise\\9990.jpg  surprise\n",
      "28819  images/train\\surprise\\9992.jpg  surprise\n",
      "28820  images/train\\surprise\\9996.jpg  surprise\n",
      "\n",
      "[28821 rows x 2 columns]\n"
     ]
    }
   ],
   "source": [
    "print(train)"
   ]
  },
  {
   "cell_type": "code",
   "execution_count": 39,
   "id": "b16b1dda-948a-4154-bc7a-3ec3c8ebdd3a",
   "metadata": {},
   "outputs": [
    {
     "name": "stdout",
     "output_type": "stream",
     "text": [
      "angry completed\n",
      "disgust completed\n",
      "fear completed\n",
      "happy completed\n",
      "neutral completed\n",
      "sad completed\n",
      "surprise completed\n"
     ]
    }
   ],
   "source": [
    "test = pd.DataFrame()\n",
    "test['image'], test['label'] = createdataframe(TEST_DIR)"
   ]
  },
  {
   "cell_type": "code",
   "execution_count": 40,
   "id": "b8e02941-eec0-493b-9493-d30c732e283e",
   "metadata": {},
   "outputs": [
    {
     "name": "stdout",
     "output_type": "stream",
     "text": [
      "                              image     label\n",
      "0       images/test\\angry\\10052.jpg     angry\n",
      "1       images/test\\angry\\10065.jpg     angry\n",
      "2       images/test\\angry\\10079.jpg     angry\n",
      "3       images/test\\angry\\10095.jpg     angry\n",
      "4       images/test\\angry\\10121.jpg     angry\n",
      "...                             ...       ...\n",
      "7061  images/test\\surprise\\9806.jpg  surprise\n",
      "7062  images/test\\surprise\\9830.jpg  surprise\n",
      "7063  images/test\\surprise\\9853.jpg  surprise\n",
      "7064  images/test\\surprise\\9878.jpg  surprise\n",
      "7065   images/test\\surprise\\993.jpg  surprise\n",
      "\n",
      "[7066 rows x 2 columns]\n"
     ]
    }
   ],
   "source": [
    "print(test)"
   ]
  },
  {
   "cell_type": "code",
   "execution_count": 41,
   "id": "197bc631-0ff0-4cd7-a343-5cedde5ec084",
   "metadata": {},
   "outputs": [],
   "source": [
    "\n",
    "def extract_features(images):\n",
    "    features = []\n",
    "    failed_images = []\n",
    "    \n",
    "    for i, image in enumerate(tqdm(images, desc=\"Processing images\")):\n",
    "        try:\n",
    "            # Load image with specified target size and color mode\n",
    "            img = load_img(image, target_size=(48, 48), color_mode='grayscale')\n",
    "            # Convert to numpy array\n",
    "            img = np.array(img)\n",
    "            # Normalize pixel values to 0-1 range\n",
    "            img = img / 255.0\n",
    "            features.append(img)\n",
    "        except Exception as e:\n",
    "            print(f\"❌ Error loading image {image}: {e}\")\n",
    "            failed_images.append(image)\n",
    "            continue\n",
    "    \n",
    "    if failed_images:\n",
    "        print(f\"⚠️  Failed to load {len(failed_images)} images out of {len(images)}\")\n",
    "    \n",
    "    features = np.array(features)\n",
    "    # Reshape for CNN: (samples, height, width, channels)\n",
    "    features = features.reshape(len(features), 48, 48, 1)\n",
    "    \n",
    "    print(f\"✅ Successfully extracted features from {len(features)} images\")\n",
    "    print(f\"📊 Features shape: {features.shape}\")\n",
    "    \n",
    "    return features"
   ]
  },
  {
   "cell_type": "code",
   "execution_count": 53,
   "id": "472e6798-e26a-452f-944c-bac4cb6c09b7",
   "metadata": {},
   "outputs": [
    {
     "name": "stdout",
     "output_type": "stream",
     "text": [
      "🔄 Extracting training features...\n"
     ]
    },
    {
     "name": "stderr",
     "output_type": "stream",
     "text": [
      "Processing images: 100%|████████████████████████████████████████████████████████████████████████████████████████████████| 28821/28821 [05:29<00:00, 87.58it/s]\n"
     ]
    },
    {
     "name": "stdout",
     "output_type": "stream",
     "text": [
      "🔄 Extracting test features...\n"
     ]
    },
    {
     "name": "stderr",
     "output_type": "stream",
     "text": [
      "Processing images: 100%|██████████████████████████████████████████████████████████████████████████████████████████████████| 7066/7066 [01:25<00:00, 82.85it/s]"
     ]
    },
    {
     "name": "stdout",
     "output_type": "stream",
     "text": [
      "\n",
      "📈 Training set: 28821 samples\n",
      "📈 Test set: 7066 samples\n",
      "🎯 Unique labels in training: 7\n",
      "🎯 Label distribution in training:\n",
      "label\n",
      "happy       7164\n",
      "neutral     4982\n",
      "sad         4938\n",
      "fear        4103\n",
      "angry       3993\n",
      "surprise    3205\n",
      "disgust      436\n",
      "Name: count, dtype: int64\n"
     ]
    },
    {
     "name": "stderr",
     "output_type": "stream",
     "text": [
      "\n"
     ]
    }
   ],
   "source": [
    "import cv2\n",
    "import numpy as np\n",
    "from tqdm import tqdm\n",
    "\n",
    "def extract_features(image_paths):\n",
    "   features = []\n",
    "   for image_path in tqdm(image_paths, desc=\"Processing images\"):\n",
    "       try:\n",
    "           img = cv2.imread(image_path, cv2.IMREAD_GRAYSCALE)\n",
    "           if img is not None:\n",
    "               img = cv2.resize(img, (48, 48))\n",
    "               img = img.astype('float32') / 255.0\n",
    "               features.append(img.flatten())\n",
    "       except Exception as e:\n",
    "           print(f\"❌ Error loading image {image_path}: {str(e)}\")\n",
    "   return np.array(features)\n",
    "\n",
    "# Extract features with progress tracking\n",
    "print(\"🔄 Extracting training features...\")\n",
    "train_features = extract_features(train['image'].values)\n",
    "print(\"🔄 Extracting test features...\")\n",
    "test_features = extract_features(test['image'].values)\n",
    "# Additional debugging information\n",
    "print(f\"\\n📈 Training set: {len(train_features)} samples\")\n",
    "print(f\"📈 Test set: {len(test_features)} samples\")\n",
    "print(f\"🎯 Unique labels in training: {train['label'].nunique()}\")\n",
    "print(f\"🎯 Label distribution in training:\\n{train['label'].value_counts()}\")"
   ]
  },
  {
   "cell_type": "code",
   "execution_count": 47,
   "id": "f074cc32-e0ae-4398-8d62-fb5d87be5741",
   "metadata": {},
   "outputs": [
    {
     "name": "stdout",
     "output_type": "stream",
     "text": [
      "0        images/train\\angry\\0.jpg\n",
      "1        images/train\\angry\\1.jpg\n",
      "2       images/train\\angry\\10.jpg\n",
      "3    images/train\\angry\\10002.jpg\n",
      "4    images/train\\angry\\10016.jpg\n",
      "Name: image, dtype: object\n"
     ]
    }
   ],
   "source": [
    "print(train['image'].head())\n"
   ]
  },
  {
   "cell_type": "code",
   "execution_count": 49,
   "id": "b02d2e35-d410-4174-bb52-c4d8ce425c5a",
   "metadata": {},
   "outputs": [
    {
     "data": {
      "image/png": "[encoded data removed]",
      "text/plain": [
       "<Figure size 640x480 with 1 Axes>"
      ]
     },
     "metadata": {},
     "output_type": "display_data"
    }
   ],
   "source": [
    "import matplotlib.pyplot as plt\n",
    "import matplotlib.image as mpimg\n",
    "import numpy as np\n",
    "\n",
    "# Load and display the image\n",
    "img_path = train['image'][0]\n",
    "img = mpimg.imread(img_path)\n",
    "\n",
    "# Convert to grayscale if it's RGB\n",
    "if len(img.shape) == 3:\n",
    "    img = np.dot(img[...,:3], [0.2989, 0.5870, 0.1140])\n",
    "\n",
    "plt.imshow(img, cmap='gray')\n",
    "plt.show()"
   ]
  },
  {
   "cell_type": "code",
   "execution_count": null,
   "id": "8905a9be-0753-48df-af9d-0822ed279481",
   "metadata": {},
   "outputs": [],
   "source": [
    "x_train = train_features/255.0\n",
    "x_test = test_features/255.0"
   ]
  },
  {
   "cell_type": "code",
   "execution_count": null,
   "id": "7e81b66b-384b-46c3-89dd-1ce75500fea2",
   "metadata": {},
   "outputs": [],
   "source": [
    "from sklearn.preprocessing import LabelEncoder"
   ]
  },
  {
   "cell_type": "code",
   "execution_count": null,
   "id": "22f614c9-0b8a-4531-97ed-964ad7622133",
   "metadata": {},
   "outputs": [],
   "source": [
    "le = LabelEncoder()\n",
    "le.fit(train['label'])"
   ]
  },
  {
   "cell_type": "code",
   "execution_count": null,
   "id": "aa91c56d-44a7-431b-8916-a5cfbcd18664",
   "metadata": {},
   "outputs": [],
   "source": [
    "y_train = le.transform(train['label'])\n",
    "y_test = le.transform(test['label'])"
   ]
  },
  {
   "cell_type": "code",
   "execution_count": null,
   "id": "b9e137ba-f18a-4c01-848d-a0d98fb1cea9",
   "metadata": {},
   "outputs": [],
   "source": [
    "y_train = to_categorical(y_train, num_classes = 7)\n",
    "y_test = to_categorical(y_test, num_classes = 7)"
   ]
  },
  {
   "cell_type": "code",
   "execution_count": null,
   "id": "66662751-6ea4-4ffe-bf6f-9ba8d2210887",
   "metadata": {},
   "outputs": [],
   "source": [
    "model = Sequential()\n",
    "# convolutional Layers\n",
    "model.add(Conv2D(128, kernel_size=(3,3), activation='relu', input_shape=(48,48,1)))\n",
    "model.add(MaxPooling2D(pool_size=(2,2)))\n",
    "model.add(Dropout(0.4))\n",
    "\n",
    "model.add(Conv2D(256, kernel_size=(3,3), activation='relu'))\n",
    "model.add(MaxPooling2D(pool_size=(2,2)))\n",
    "model.add(Dropout(0.4))\n",
    "\n",
    "model.add(Conv2D(512, kernel_size=(3,3), activation='relu'))\n",
    "model.add(MaxPooling2D(pool_size=(2,2)))\n",
    "model.add(Dropout(0.4))\n",
    "\n",
    "model.add(Conv2D(512, kernel_size=(3,3), activation='relu'))\n",
    "model.add(MaxPooling2D(pool_size=(2,2)))\n",
    "model.add(Dropout(0.4))\n",
    "\n",
    "model.add(Flatten())\n",
    "# fully connected layers\n",
    "model.add(Dense(512, activation='relu'))\n",
    "model.add(Dropout(0.4))\n",
    "model.add(Dense(256, activation='relu'))\n",
    "model.add(Dropout(0.3))\n",
    "# output layer\n",
    "model.add(Dense(7, activation='softmax'))"
   ]
  },
  {
   "cell_type": "code",
   "execution_count": null,
   "id": "d27ae14b-485e-4fa8-af92-4d53d3e13a09",
   "metadata": {},
   "outputs": [],
   "source": [
    "model.compile(optimizer = 'adam', loss = 'categorical_crossentropy', metrics = ['accuracy'])"
   ]
  },
  {
   "cell_type": "code",
   "execution_count": null,
   "id": "26ff6bcf-4cd4-4056-b673-8deb4d6c0f3f",
   "metadata": {},
   "outputs": [],
   "source": [
    "# import numpy as np\n",
    "# from tensorflow.keras.utils import to_categorical\n",
    "\n",
    "# # Current shapes\n",
    "# print(\"Original y_train shape:\", y_train.shape)\n",
    "# print(\"Original y_test shape:\", y_test.shape)\n",
    "\n",
    "# # Check what the labels actually contain\n",
    "# print(\"Sample of y_train[0]:\")\n",
    "# print(y_train[0])\n",
    "# print(\"\\nUnique values in y_train:\")\n",
    "# print(np.unique(y_train))\n",
    "\n",
    "# # Solution 1: If labels are incorrectly shaped one-hot vectors\n",
    "# # Convert (samples, 7, 7, 7) to (samples, 7) by taking the first slice\n",
    "# if y_train.shape == (y_train.shape[0], 7, 7, 7):\n",
    "#     # Take only the first dimension of the extra axes\n",
    "#     y_train_fixed = y_train[:, :, 0, 0]  # Shape: (samples, 7)\n",
    "#     y_test_fixed = y_test[:, :, 0, 0]    # Shape: (samples, 7)\n",
    "    \n",
    "#     print(\"After first fix - y_train shape:\", y_train_fixed.shape)\n",
    "#     print(\"After first fix - y_test shape:\", y_test_fixed.shape)\n",
    "    \n",
    "#     # Check if these look like proper one-hot vectors\n",
    "#     print(\"Sample y_train_fixed[0]:\", y_train_fixed[0])\n",
    "#     print(\"Sum of first sample:\", np.sum(y_train_fixed[0]))\n",
    "    \n",
    "#     # If they're proper one-hot vectors (sum should be 1), use them\n",
    "#     if np.allclose(np.sum(y_train_fixed, axis=1), 1):\n",
    "#         y_train = y_train_fixed\n",
    "#         y_test = y_test_fixed\n",
    "#         print(\"Using one-hot encoded labels\")\n",
    "#     else:\n",
    "#         # If not proper one-hot, they might be class indices\n",
    "#         # Convert to integers first, then to one-hot\n",
    "#         y_train_int = np.argmax(y_train_fixed, axis=1)\n",
    "#         y_test_int = np.argmax(y_test_fixed, axis=1)\n",
    "#         y_train = to_categorical(y_train_int, num_classes=7)\n",
    "#         y_test = to_categorical(y_test_int, num_classes=7)\n",
    "#         print(\"Converted to proper one-hot encoding\")\n",
    "\n",
    "# # Solution 2: If the above doesn't work, try flattening and reshaping\n",
    "# # This handles cases where labels might be stored incorrectly\n",
    "# else:\n",
    "#     # Flatten the labels and take first 7 elements for each sample\n",
    "#     y_train_flat = y_train.reshape(y_train.shape[0], -1)\n",
    "#     y_test_flat = y_test.reshape(y_test.shape[0], -1)\n",
    "    \n",
    "#     # Take first 7 elements (assuming they contain the class info)\n",
    "#     y_train = y_train_flat[:, :7]\n",
    "#     y_test = y_test_flat[:, :7]\n",
    "\n",
    "# print(\"Final y_train shape:\", y_train.shape)\n",
    "# print(\"Final y_test shape:\", y_test.shape)\n",
    "# print(\"Sample final y_train[0]:\", y_train[0])\n",
    "\n",
    "# # Verify the labels are properly formatted\n",
    "# print(\"Sum of first few samples:\", np.sum(y_train[:5], axis=1))\n",
    "\n",
    "# # Now compile and train the model\n",
    "# model.compile(\n",
    "#     optimizer='adam',\n",
    "#     loss='categorical_crossentropy',\n",
    "#     metrics=['accuracy']\n",
    "# )\n",
    "\n",
    "# # Train the model\n",
    "# history = model.fit(\n",
    "#     x=x_train, \n",
    "#     y=y_train, \n",
    "#     batch_size=128, \n",
    "#     epochs=100, \n",
    "#     validation_data=(x_test, y_test)\n",
    "# )"
   ]
  },
  {
   "cell_type": "code",
   "execution_count": null,
   "id": "47d581cd-83c3-4dcd-9080-ecb10e9093fd",
   "metadata": {},
   "outputs": [],
   "source": [
    "# model_json = model.to_json()\n",
    "# with open(\"facialemotionmodel.json\",\"w\") as json_file:\n",
    "#      json_file.write(model_json)\n",
    "# model.save(\"facialemotionmodel.h5\")"
   ]
  },
  {
   "cell_type": "code",
   "execution_count": 1,
   "id": "50fae6de-8da1-472a-94d0-1817f7f52167",
   "metadata": {},
   "outputs": [],
   "source": [
    "from tensorflow.keras.models import model_from_json"
   ]
  },
  {
   "cell_type": "code",
   "execution_count": 2,
   "id": "2002f794-11f5-4967-87b9-b55e8fe07506",
   "metadata": {},
   "outputs": [],
   "source": [
    "json_file = open(\"facialemotionmodel.json\", \"r\")\n",
    "model_json = json_file.read()\n",
    "json_file.close()\n",
    "model = model_from_json(model_json)\n",
    "model.load_weights(\"facialemotionmodel.h5\")"
   ]
  },
  {
   "cell_type": "code",
   "execution_count": 3,
   "id": "282bd0a2-22f1-41d7-be7f-d99dd2e90d65",
   "metadata": {},
   "outputs": [],
   "source": [
    "label = ['angry', 'disgust', 'fear', 'happy', 'neutral', 'sad', 'surprise']"
   ]
  },
  {
   "cell_type": "code",
   "execution_count": 26,
   "id": "40f36194-60bd-4e7e-b565-221fdc6a63e3",
   "metadata": {},
   "outputs": [],
   "source": [
    "from PIL import Image\n",
    "import numpy as np\n",
    "\n",
    "def ef(image):\n",
    "    # Load image using PIL\n",
    "    img = Image.open(image).convert('L')  # 'L' for grayscale\n",
    "    \n",
    "    # Resize to 48x48 if needed\n",
    "    img = img.resize((48, 48))\n",
    "    \n",
    "    # Convert to numpy array\n",
    "    feature = np.array(img)\n",
    "    \n",
    "    # Normalize pixel values (0-255 to 0-1)\n",
    "    feature = feature.astype('float32') / 255.0\n",
    "    \n",
    "    # Reshape for model input\n",
    "    feature = feature.reshape(1, 48, 48, 1)\n",
    "    return feature"
   ]
  },
  {
   "cell_type": "code",
   "execution_count": 27,
   "id": "baa5424d-7050-4c10-ab2f-77690d0dc4a1",
   "metadata": {},
   "outputs": [
    {
     "name": "stdout",
     "output_type": "stream",
     "text": [
      "original image is =  images/train/angry/22.jpg\n",
      "1/1 [==============================] - 0s 59ms/step\n",
      "model prediction is =  angry\n"
     ]
    },
    {
     "data": {
      "image/png": "[encoded data removed]",
      "text/plain": [
       "<Figure size 640x480 with 1 Axes>"
      ]
     },
     "metadata": {},
     "output_type": "display_data"
    }
   ],
   "source": [
    "import matplotlib.pyplot as plt\n",
    "import matplotlib.image as mpimg\n",
    "\n",
    "# Your existing code\n",
    "image = \"images/train/angry/22.jpg\"\n",
    "print(\"original image is = \", image)\n",
    "img = ef(image)\n",
    "pred = model.predict(img)\n",
    "pred = label[np.argmax(pred)]\n",
    "print(\"model prediction is = \", pred)\n",
    "\n",
    "# Fix: Load and display the image file\n",
    "original_img = mpimg.imread(image)\n",
    "plt.imshow(original_img, cmap='gray')  # Use cmap='gray' if it's grayscale\n",
    "plt.title(f\"Prediction: {pred}\")\n",
    "plt.axis('off')\n",
    "plt.show()"
   ]
  },
  {
   "cell_type": "code",
   "execution_count": 19,
   "id": "31be467e-44c1-42c2-9ef9-3a6664b378a5",
   "metadata": {},
   "outputs": [
    {
     "name": "stdout",
     "output_type": "stream",
     "text": [
      "original image is =  images/train/sad/3.jpg\n",
      "1/1 [==============================] - 0s 54ms/step\n",
      "model prediction is =  sad\n"
     ]
    },
    {
     "data": {
      "image/png": "[encoded data removed]",
      "text/plain": [
       "<Figure size 640x480 with 1 Axes>"
      ]
     },
     "metadata": {},
     "output_type": "display_data"
    }
   ],
   "source": [
    "import matplotlib.pyplot as plt\n",
    "import matplotlib.image as mpimg\n",
    "\n",
    "# Your existing code\n",
    "image = \"images/train/sad/3.jpg\"\n",
    "print(\"original image is = \", image)\n",
    "img = ef(image)\n",
    "pred = model.predict(img)\n",
    "pred = label[np.argmax(pred)]\n",
    "print(\"model prediction is = \", pred)\n",
    "\n",
    "# Fix: Load and display the image file\n",
    "original_img = mpimg.imread(image)\n",
    "plt.imshow(original_img, cmap='gray')  # Use cmap='gray' if it's grayscale\n",
    "plt.title(f\"Prediction: {pred}\")\n",
    "plt.axis('off')\n",
    "plt.show()"
   ]
  },
  {
   "cell_type": "code",
   "execution_count": 22,
   "id": "a7ca49c4-dba9-4955-97f3-25a7ccac58a8",
   "metadata": {},
   "outputs": [
    {
     "name": "stdout",
     "output_type": "stream",
     "text": [
      "original image is =  images/train/fear/17.jpg\n",
      "1/1 [==============================] - 0s 43ms/step\n",
      "model prediction is =  fear\n"
     ]
    },
    {
     "data": {
      "image/png": "[encoded data removed]",
      "text/plain": [
       "<Figure size 640x480 with 1 Axes>"
      ]
     },
     "metadata": {},
     "output_type": "display_data"
    }
   ],
   "source": [
    "import matplotlib.pyplot as plt\n",
    "import matplotlib.image as mpimg\n",
    "\n",
    "# Your existing code\n",
    "image = \"images/train/fear/17.jpg\"\n",
    "print(\"original image is = \", image)\n",
    "img = ef(image)\n",
    "pred = model.predict(img)\n",
    "pred = label[np.argmax(pred)]\n",
    "print(\"model prediction is = \", pred)\n",
    "\n",
    "# Fix: Load and display the image file\n",
    "original_img = mpimg.imread(image)\n",
    "plt.imshow(original_img, cmap='gray')  # Use cmap='gray' if it's grayscale\n",
    "plt.title(f\"Prediction: {pred}\")\n",
    "plt.axis('off')\n",
    "plt.show()"
   ]
  },
  {
   "cell_type": "code",
   "execution_count": 29,
   "id": "431e4639-f6f6-4d58-86f5-2e13b3253f96",
   "metadata": {},
   "outputs": [
    {
     "name": "stdout",
     "output_type": "stream",
     "text": [
      "original image is =  images/train/disgust/388.jpg\n",
      "1/1 [==============================] - 0s 37ms/step\n",
      "model prediction is =  disgust\n"
     ]
    },
    {
     "data": {
      "image/png": "[encoded data removed]",
      "text/plain": [
       "<Figure size 640x480 with 1 Axes>"
      ]
     },
     "metadata": {},
     "output_type": "display_data"
    }
   ],
   "source": [
    "import matplotlib.pyplot as plt\n",
    "import matplotlib.image as mpimg\n",
    "\n",
    "# Your existing code\n",
    "image = \"images/train/disgust/388.jpg\"\n",
    "print(\"original image is = \", image)\n",
    "img = ef(image)\n",
    "pred = model.predict(img)\n",
    "pred = label[np.argmax(pred)]\n",
    "print(\"model prediction is = \", pred)\n",
    "\n",
    "# Fix: Load and display the image file\n",
    "original_img = mpimg.imread(image)\n",
    "plt.imshow(original_img, cmap='gray')  # Use cmap='gray' if it's grayscale\n",
    "plt.title(f\"Prediction: {pred}\")\n",
    "plt.axis('off')\n",
    "plt.show()"
   ]
  },
  {
   "cell_type": "code",
   "execution_count": 30,
   "id": "49018aa2-b936-46bd-9cad-e9ff680edf25",
   "metadata": {},
   "outputs": [
    {
     "name": "stdout",
     "output_type": "stream",
     "text": [
      "original image is =  images/train/happy/28.jpg\n",
      "1/1 [==============================] - 0s 29ms/step\n",
      "model prediction is =  happy\n"
     ]
    },
    {
     "data": {
      "image/png": "[encoded data removed]",
      "text/plain": [
       "<Figure size 640x480 with 1 Axes>"
      ]
     },
     "metadata": {},
     "output_type": "display_data"
    }
   ],
   "source": [
    "import matplotlib.pyplot as plt\n",
    "import matplotlib.image as mpimg\n",
    "\n",
    "# Your existing code\n",
    "image = \"images/train/happy/28.jpg\"\n",
    "print(\"original image is = \", image)\n",
    "img = ef(image)\n",
    "pred = model.predict(img)\n",
    "pred = label[np.argmax(pred)]\n",
    "print(\"model prediction is = \", pred)\n",
    "\n",
    "# Fix: Load and display the image file\n",
    "original_img = mpimg.imread(image)\n",
    "plt.imshow(original_img, cmap='gray')  # Use cmap='gray' if it's grayscale\n",
    "plt.title(f\"Prediction: {pred}\")\n",
    "plt.axis('off')\n",
    "plt.show()"
   ]
  },
  {
   "cell_type": "code",
   "execution_count": 31,
   "id": "ae9be62f-3e53-4c32-9565-1ab4ffe3b10e",
   "metadata": {},
   "outputs": [
    {
     "name": "stdout",
     "output_type": "stream",
     "text": [
      "original image is =  images/train/neutral/11.jpg\n",
      "1/1 [==============================] - 0s 28ms/step\n",
      "model prediction is =  neutral\n"
     ]
    },
    {
     "data": {
      "image/png": "[encoded data removed]",
      "text/plain": [
       "<Figure size 640x480 with 1 Axes>"
      ]
     },
     "metadata": {},
     "output_type": "display_data"
    }
   ],
   "source": [
    "import matplotlib.pyplot as plt\n",
    "import matplotlib.image as mpimg\n",
    "\n",
    "# Your existing code\n",
    "image = \"images/train/neutral/11.jpg\"\n",
    "print(\"original image is = \", image)\n",
    "img = ef(image)\n",
    "pred = model.predict(img)\n",
    "pred = label[np.argmax(pred)]\n",
    "print(\"model prediction is = \", pred)\n",
    "\n",
    "# Fix: Load and display the image file\n",
    "original_img = mpimg.imread(image)\n",
    "plt.imshow(original_img, cmap='gray')  # Use cmap='gray' if it's grayscale\n",
    "plt.title(f\"Prediction: {pred}\")\n",
    "plt.axis('off')\n",
    "plt.show()"
   ]
  },
  {
   "cell_type": "code",
   "execution_count": 32,
   "id": "7d4eb81a-ee84-400e-a1f1-ad57db96271e",
   "metadata": {},
   "outputs": [
    {
     "name": "stdout",
     "output_type": "stream",
     "text": [
      "original image is =  images/train/surprise/29.jpg\n",
      "1/1 [==============================] - 0s 29ms/step\n",
      "model prediction is =  surprise\n"
     ]
    },
    {
     "data": {
      "image/png": "[encoded data removed]",
      "text/plain": [
       "<Figure size 640x480 with 1 Axes>"
      ]
     },
     "metadata": {},
     "output_type": "display_data"
    }
   ],
   "source": [
    "import matplotlib.pyplot as plt\n",
    "import matplotlib.image as mpimg\n",
    "\n",
    "# Your existing code\n",
    "image = \"images/train/surprise/29.jpg\"\n",
    "print(\"original image is = \", image)\n",
    "img = ef(image)\n",
    "pred = model.predict(img)\n",
    "pred = label[np.argmax(pred)]\n",
    "print(\"model prediction is = \", pred)\n",
    "\n",
    "# Fix: Load and display the image file\n",
    "original_img = mpimg.imread(image)\n",
    "plt.imshow(original_img, cmap='gray')  # Use cmap='gray' if it's grayscale\n",
    "plt.title(f\"Prediction: {pred}\")\n",
    "plt.axis('off')\n",
    "plt.show()"
   ]
  },
  {
   "cell_type": "code",
   "execution_count": 10,
   "id": "dde5c21b-4421-457b-b31f-c7fe2e698a28",
   "metadata": {},
   "outputs": [
    {
     "name": "stdout",
     "output_type": "stream",
     "text": [
      "Collecting Pillow\n",
      "  Downloading pillow-11.3.0-cp310-cp310-win_amd64.whl.metadata (9.2 kB)\n",
      "Downloading pillow-11.3.0-cp310-cp310-win_amd64.whl (7.0 MB)\n",
      "   ---------------------------------------- 0.0/7.0 MB ? eta -:--:--\n",
      "   ---------------------------------------- 0.0/7.0 MB ? eta -:--:--\n",
      "   - -------------------------------------- 0.3/7.0 MB ? eta -:--:--\n",
      "   --- ------------------------------------ 0.5/7.0 MB 840.2 kB/s eta 0:00:08\n",
      "   ---- ----------------------------------- 0.8/7.0 MB 1.2 MB/s eta 0:00:06\n",
      "   ------ --------------------------------- 1.0/7.0 MB 1.4 MB/s eta 0:00:05\n",
      "   ------- -------------------------------- 1.3/7.0 MB 1.1 MB/s eta 0:00:06\n",
      "   --------- ------------------------------ 1.6/7.0 MB 1.3 MB/s eta 0:00:05\n",
      "   ---------- ----------------------------- 1.8/7.0 MB 1.3 MB/s eta 0:00:05\n",
      "   ------------ --------------------------- 2.1/7.0 MB 1.3 MB/s eta 0:00:04\n",
      "   ------------- -------------------------- 2.4/7.0 MB 1.3 MB/s eta 0:00:04\n",
      "   --------------- ------------------------ 2.6/7.0 MB 1.2 MB/s eta 0:00:04\n",
      "   ---------------- ----------------------- 2.9/7.0 MB 1.2 MB/s eta 0:00:04\n",
      "   ------------------ --------------------- 3.1/7.0 MB 1.2 MB/s eta 0:00:04\n",
      "   ------------------- -------------------- 3.4/7.0 MB 1.2 MB/s eta 0:00:04\n",
      "   ------------------- -------------------- 3.4/7.0 MB 1.2 MB/s eta 0:00:04\n",
      "   --------------------- ------------------ 3.7/7.0 MB 1.2 MB/s eta 0:00:03\n",
      "   ---------------------- ----------------- 3.9/7.0 MB 1.1 MB/s eta 0:00:03\n",
      "   ------------------------ --------------- 4.2/7.0 MB 1.1 MB/s eta 0:00:03\n",
      "   ------------------------- -------------- 4.5/7.0 MB 1.2 MB/s eta 0:00:03\n",
      "   --------------------------- ------------ 4.7/7.0 MB 1.2 MB/s eta 0:00:02\n",
      "   ---------------------------- ----------- 5.0/7.0 MB 1.1 MB/s eta 0:00:02\n",
      "   ------------------------------ --------- 5.2/7.0 MB 1.1 MB/s eta 0:00:02\n",
      "   ------------------------------- -------- 5.5/7.0 MB 1.1 MB/s eta 0:00:02\n",
      "   --------------------------------- ------ 5.8/7.0 MB 1.1 MB/s eta 0:00:02\n",
      "   ---------------------------------- ----- 6.0/7.0 MB 1.2 MB/s eta 0:00:01\n",
      "   ---------------------------------- ----- 6.0/7.0 MB 1.2 MB/s eta 0:00:01\n",
      "   ------------------------------------ --- 6.3/7.0 MB 1.1 MB/s eta 0:00:01\n",
      "   ---------------------------------------  6.8/7.0 MB 1.2 MB/s eta 0:00:01\n",
      "   ---------------------------------------- 7.0/7.0 MB 1.2 MB/s eta 0:00:00\n",
      "Installing collected packages: Pillow\n",
      "Successfully installed Pillow-11.3.0\n"
     ]
    }
   ],
   "source": [
    "!pip install Pillow"
   ]
  },
  {
   "cell_type": "code",
   "execution_count": null,
   "id": "bdedad71-813e-4f15-bd3a-0ee9dfc47010",
   "metadata": {},
   "outputs": [],
   "source": [
    "!pip list | findstr keras\n",
    "!pip list | findstr tensorflow\n"
   ]
  },
  {
   "cell_type": "code",
   "execution_count": null,
   "id": "079f3455-be3f-4036-a1ee-e61068d761e5",
   "metadata": {},
   "outputs": [],
   "source": [
    "!pip install keras==2.10.0 tensorflow==2.10.0"
   ]
  },
  {
   "cell_type": "code",
   "execution_count": 7,
   "id": "ff0a94c1-9bae-4fe8-9b70-4acb96e3cda9",
   "metadata": {},
   "outputs": [
    {
     "name": "stdout",
     "output_type": "stream",
     "text": [
      "Requirement already satisfied: numpy==1.23.5 in c:\\users\\syscom\\appdata\\local\\programs\\python\\python310\\lib\\site-packages (1.23.5)\n",
      "Requirement already satisfied: tensorflow==2.10.0 in c:\\users\\syscom\\appdata\\local\\programs\\python\\python310\\lib\\site-packages (2.10.0)\n",
      "Requirement already satisfied: keras==2.10.0 in c:\\users\\syscom\\appdata\\local\\programs\\python\\python310\\lib\\site-packages (2.10.0)\n",
      "Requirement already satisfied: absl-py>=1.0.0 in c:\\users\\syscom\\appdata\\local\\programs\\python\\python310\\lib\\site-packages (from tensorflow==2.10.0) (2.3.1)\n",
      "Requirement already satisfied: astunparse>=1.6.0 in c:\\users\\syscom\\appdata\\local\\programs\\python\\python310\\lib\\site-packages (from tensorflow==2.10.0) (1.6.3)\n",
      "Requirement already satisfied: flatbuffers>=2.0 in c:\\users\\syscom\\appdata\\local\\programs\\python\\python310\\lib\\site-packages (from tensorflow==2.10.0) (25.2.10)\n",
      "Requirement already satisfied: gast<=0.4.0,>=0.2.1 in c:\\users\\syscom\\appdata\\local\\programs\\python\\python310\\lib\\site-packages (from tensorflow==2.10.0) (0.4.0)\n",
      "Requirement already satisfied: google-pasta>=0.1.1 in c:\\users\\syscom\\appdata\\local\\programs\\python\\python310\\lib\\site-packages (from tensorflow==2.10.0) (0.2.0)\n",
      "Requirement already satisfied: h5py>=2.9.0 in c:\\users\\syscom\\appdata\\local\\programs\\python\\python310\\lib\\site-packages (from tensorflow==2.10.0) (3.14.0)\n",
      "Requirement already satisfied: keras-preprocessing>=1.1.1 in c:\\users\\syscom\\appdata\\local\\programs\\python\\python310\\lib\\site-packages (from tensorflow==2.10.0) (1.1.2)\n",
      "Requirement already satisfied: libclang>=13.0.0 in c:\\users\\syscom\\appdata\\local\\programs\\python\\python310\\lib\\site-packages (from tensorflow==2.10.0) (18.1.1)\n",
      "Requirement already satisfied: opt-einsum>=2.3.2 in c:\\users\\syscom\\appdata\\local\\programs\\python\\python310\\lib\\site-packages (from tensorflow==2.10.0) (3.4.0)\n",
      "Requirement already satisfied: packaging in c:\\users\\syscom\\appdata\\local\\programs\\python\\python310\\lib\\site-packages (from tensorflow==2.10.0) (25.0)\n",
      "Requirement already satisfied: protobuf<3.20,>=3.9.2 in c:\\users\\syscom\\appdata\\local\\programs\\python\\python310\\lib\\site-packages (from tensorflow==2.10.0) (3.19.6)\n",
      "Requirement already satisfied: setuptools in c:\\users\\syscom\\appdata\\local\\programs\\python\\python310\\lib\\site-packages (from tensorflow==2.10.0) (63.2.0)\n",
      "Requirement already satisfied: six>=1.12.0 in c:\\users\\syscom\\appdata\\local\\programs\\python\\python310\\lib\\site-packages (from tensorflow==2.10.0) (1.17.0)\n",
      "Requirement already satisfied: termcolor>=1.1.0 in c:\\users\\syscom\\appdata\\local\\programs\\python\\python310\\lib\\site-packages (from tensorflow==2.10.0) (3.1.0)\n",
      "Requirement already satisfied: typing-extensions>=3.6.6 in c:\\users\\syscom\\appdata\\local\\programs\\python\\python310\\lib\\site-packages (from tensorflow==2.10.0) (4.14.1)\n",
      "Requirement already satisfied: wrapt>=1.11.0 in c:\\users\\syscom\\appdata\\local\\programs\\python\\python310\\lib\\site-packages (from tensorflow==2.10.0) (1.17.2)\n",
      "Requirement already satisfied: tensorflow-io-gcs-filesystem>=0.23.1 in c:\\users\\syscom\\appdata\\local\\programs\\python\\python310\\lib\\site-packages (from tensorflow==2.10.0) (0.31.0)\n",
      "Requirement already satisfied: grpcio<2.0,>=1.24.3 in c:\\users\\syscom\\appdata\\local\\programs\\python\\python310\\lib\\site-packages (from tensorflow==2.10.0) (1.73.1)\n",
      "Requirement already satisfied: tensorboard<2.11,>=2.10 in c:\\users\\syscom\\appdata\\local\\programs\\python\\python310\\lib\\site-packages (from tensorflow==2.10.0) (2.10.1)\n",
      "Requirement already satisfied: tensorflow-estimator<2.11,>=2.10.0 in c:\\users\\syscom\\appdata\\local\\programs\\python\\python310\\lib\\site-packages (from tensorflow==2.10.0) (2.10.0)\n",
      "Requirement already satisfied: google-auth<3,>=1.6.3 in c:\\users\\syscom\\appdata\\local\\programs\\python\\python310\\lib\\site-packages (from tensorboard<2.11,>=2.10->tensorflow==2.10.0) (2.40.3)\n",
      "Requirement already satisfied: google-auth-oauthlib<0.5,>=0.4.1 in c:\\users\\syscom\\appdata\\local\\programs\\python\\python310\\lib\\site-packages (from tensorboard<2.11,>=2.10->tensorflow==2.10.0) (0.4.6)\n",
      "Requirement already satisfied: markdown>=2.6.8 in c:\\users\\syscom\\appdata\\local\\programs\\python\\python310\\lib\\site-packages (from tensorboard<2.11,>=2.10->tensorflow==2.10.0) (3.8.2)\n",
      "Requirement already satisfied: requests<3,>=2.21.0 in c:\\users\\syscom\\appdata\\local\\programs\\python\\python310\\lib\\site-packages (from tensorboard<2.11,>=2.10->tensorflow==2.10.0) (2.32.4)\n",
      "Requirement already satisfied: tensorboard-data-server<0.7.0,>=0.6.0 in c:\\users\\syscom\\appdata\\local\\programs\\python\\python310\\lib\\site-packages (from tensorboard<2.11,>=2.10->tensorflow==2.10.0) (0.6.1)\n",
      "Requirement already satisfied: tensorboard-plugin-wit>=1.6.0 in c:\\users\\syscom\\appdata\\local\\programs\\python\\python310\\lib\\site-packages (from tensorboard<2.11,>=2.10->tensorflow==2.10.0) (1.8.1)\n",
      "Requirement already satisfied: werkzeug>=1.0.1 in c:\\users\\syscom\\appdata\\local\\programs\\python\\python310\\lib\\site-packages (from tensorboard<2.11,>=2.10->tensorflow==2.10.0) (3.1.3)\n",
      "Requirement already satisfied: wheel>=0.26 in c:\\users\\syscom\\appdata\\local\\programs\\python\\python310\\lib\\site-packages (from tensorboard<2.11,>=2.10->tensorflow==2.10.0) (0.45.1)\n",
      "Requirement already satisfied: cachetools<6.0,>=2.0.0 in c:\\users\\syscom\\appdata\\local\\programs\\python\\python310\\lib\\site-packages (from google-auth<3,>=1.6.3->tensorboard<2.11,>=2.10->tensorflow==2.10.0) (5.5.2)\n",
      "Requirement already satisfied: pyasn1-modules>=0.2.1 in c:\\users\\syscom\\appdata\\local\\programs\\python\\python310\\lib\\site-packages (from google-auth<3,>=1.6.3->tensorboard<2.11,>=2.10->tensorflow==2.10.0) (0.4.2)\n",
      "Requirement already satisfied: rsa<5,>=3.1.4 in c:\\users\\syscom\\appdata\\local\\programs\\python\\python310\\lib\\site-packages (from google-auth<3,>=1.6.3->tensorboard<2.11,>=2.10->tensorflow==2.10.0) (4.9.1)\n",
      "Requirement already satisfied: requests-oauthlib>=0.7.0 in c:\\users\\syscom\\appdata\\local\\programs\\python\\python310\\lib\\site-packages (from google-auth-oauthlib<0.5,>=0.4.1->tensorboard<2.11,>=2.10->tensorflow==2.10.0) (2.0.0)\n",
      "Requirement already satisfied: charset_normalizer<4,>=2 in c:\\users\\syscom\\appdata\\local\\programs\\python\\python310\\lib\\site-packages (from requests<3,>=2.21.0->tensorboard<2.11,>=2.10->tensorflow==2.10.0) (3.4.2)\n",
      "Requirement already satisfied: idna<4,>=2.5 in c:\\users\\syscom\\appdata\\local\\programs\\python\\python310\\lib\\site-packages (from requests<3,>=2.21.0->tensorboard<2.11,>=2.10->tensorflow==2.10.0) (3.10)\n",
      "Requirement already satisfied: urllib3<3,>=1.21.1 in c:\\users\\syscom\\appdata\\local\\programs\\python\\python310\\lib\\site-packages (from requests<3,>=2.21.0->tensorboard<2.11,>=2.10->tensorflow==2.10.0) (2.5.0)\n",
      "Requirement already satisfied: certifi>=2017.4.17 in c:\\users\\syscom\\appdata\\local\\programs\\python\\python310\\lib\\site-packages (from requests<3,>=2.21.0->tensorboard<2.11,>=2.10->tensorflow==2.10.0) (2025.7.9)\n",
      "Requirement already satisfied: pyasn1>=0.1.3 in c:\\users\\syscom\\appdata\\local\\programs\\python\\python310\\lib\\site-packages (from rsa<5,>=3.1.4->google-auth<3,>=1.6.3->tensorboard<2.11,>=2.10->tensorflow==2.10.0) (0.6.1)\n",
      "Requirement already satisfied: oauthlib>=3.0.0 in c:\\users\\syscom\\appdata\\local\\programs\\python\\python310\\lib\\site-packages (from requests-oauthlib>=0.7.0->google-auth-oauthlib<0.5,>=0.4.1->tensorboard<2.11,>=2.10->tensorflow==2.10.0) (3.3.1)\n",
      "Requirement already satisfied: MarkupSafe>=2.1.1 in c:\\users\\syscom\\appdata\\local\\programs\\python\\python310\\lib\\site-packages (from werkzeug>=1.0.1->tensorboard<2.11,>=2.10->tensorflow==2.10.0) (3.0.2)\n"
     ]
    }
   ],
   "source": [
    "!pip install numpy==1.23.5 tensorflow==2.10.0 keras==2.10.0\n"
   ]
  },
  {
   "cell_type": "code",
   "execution_count": 5,
   "id": "7d8fd2e6-f1bd-4174-a13b-f008ea49abc5",
   "metadata": {},
   "outputs": [
    {
     "name": "stdout",
     "output_type": "stream",
     "text": [
      "Found existing installation: opencv-contrib-python 4.12.0.88\n",
      "Uninstalling opencv-contrib-python-4.12.0.88:\n",
      "  Successfully uninstalled opencv-contrib-python-4.12.0.88\n",
      "Collecting opencv-contrib-python==4.7.0.72\n",
      "  Downloading opencv_contrib_python-4.7.0.72-cp37-abi3-win_amd64.whl.metadata (18 kB)\n",
      "Requirement already satisfied: numpy>=1.21.2 in c:\\users\\syscom\\appdata\\local\\programs\\python\\python310\\lib\\site-packages (from opencv-contrib-python==4.7.0.72) (1.23.5)\n",
      "Downloading opencv_contrib_python-4.7.0.72-cp37-abi3-win_amd64.whl (44.9 MB)\n",
      "   ---------------------------------------- 0.0/44.9 MB ? eta -:--:--\n",
      "   ---------------------------------------- 0.0/44.9 MB ? eta -:--:--\n",
      "   ---------------------------------------- 0.3/44.9 MB ? eta -:--:--\n",
      "   ---------------------------------------- 0.5/44.9 MB 764.3 kB/s eta 0:00:59\n",
      "    --------------------------------------- 0.8/44.9 MB 1.0 MB/s eta 0:00:44\n",
      "    --------------------------------------- 1.0/44.9 MB 1.2 MB/s eta 0:00:37\n",
      "   - -------------------------------------- 1.3/44.9 MB 1.1 MB/s eta 0:00:39\n",
      "   - -------------------------------------- 1.6/44.9 MB 1.1 MB/s eta 0:00:39\n",
      "   - -------------------------------------- 1.8/44.9 MB 1.2 MB/s eta 0:00:36\n",
      "   - -------------------------------------- 1.8/44.9 MB 1.2 MB/s eta 0:00:36\n",
      "   -- ------------------------------------- 2.4/44.9 MB 1.2 MB/s eta 0:00:37\n",
      "   -- ------------------------------------- 2.6/44.9 MB 1.2 MB/s eta 0:00:37\n",
      "   -- ------------------------------------- 2.6/44.9 MB 1.2 MB/s eta 0:00:37\n",
      "   -- ------------------------------------- 2.9/44.9 MB 1.1 MB/s eta 0:00:40\n",
      "   -- ------------------------------------- 2.9/44.9 MB 1.1 MB/s eta 0:00:40\n",
      "   -- ------------------------------------- 3.1/44.9 MB 992.3 kB/s eta 0:00:43\n",
      "   -- ------------------------------------- 3.1/44.9 MB 992.3 kB/s eta 0:00:43\n",
      "   --- ------------------------------------ 3.4/44.9 MB 945.2 kB/s eta 0:00:44\n",
      "   --- ------------------------------------ 3.4/44.9 MB 945.2 kB/s eta 0:00:44\n",
      "   --- ------------------------------------ 3.4/44.9 MB 945.2 kB/s eta 0:00:44\n",
      "   --- ------------------------------------ 3.4/44.9 MB 945.2 kB/s eta 0:00:44\n",
      "   --- ------------------------------------ 3.7/44.9 MB 845.4 kB/s eta 0:00:49\n",
      "   --- ------------------------------------ 3.7/44.9 MB 845.4 kB/s eta 0:00:49\n",
      "   --- ------------------------------------ 3.7/44.9 MB 845.4 kB/s eta 0:00:49\n",
      "   --- ------------------------------------ 3.7/44.9 MB 845.4 kB/s eta 0:00:49\n",
      "   --- ------------------------------------ 3.9/44.9 MB 750.5 kB/s eta 0:00:55\n",
      "   --- ------------------------------------ 3.9/44.9 MB 750.5 kB/s eta 0:00:55\n",
      "   --- ------------------------------------ 3.9/44.9 MB 750.5 kB/s eta 0:00:55\n",
      "   --- ------------------------------------ 4.2/44.9 MB 699.0 kB/s eta 0:00:59\n",
      "   --- ------------------------------------ 4.2/44.9 MB 699.0 kB/s eta 0:00:59\n",
      "   --- ------------------------------------ 4.2/44.9 MB 699.0 kB/s eta 0:00:59\n",
      "   --- ------------------------------------ 4.5/44.9 MB 669.5 kB/s eta 0:01:01\n",
      "   --- ------------------------------------ 4.5/44.9 MB 669.5 kB/s eta 0:01:01\n",
      "   --- ------------------------------------ 4.5/44.9 MB 669.5 kB/s eta 0:01:01\n",
      "   ---- ----------------------------------- 4.7/44.9 MB 646.8 kB/s eta 0:01:03\n",
      "   ---- ----------------------------------- 4.7/44.9 MB 646.8 kB/s eta 0:01:03\n",
      "   ---- ----------------------------------- 5.0/44.9 MB 633.1 kB/s eta 0:01:04\n",
      "   ---- ----------------------------------- 5.0/44.9 MB 633.1 kB/s eta 0:01:04\n",
      "   ---- ----------------------------------- 5.0/44.9 MB 633.1 kB/s eta 0:01:04\n",
      "   ---- ----------------------------------- 5.2/44.9 MB 619.0 kB/s eta 0:01:05\n",
      "   ---- ----------------------------------- 5.2/44.9 MB 619.0 kB/s eta 0:01:05\n",
      "   ---- ----------------------------------- 5.2/44.9 MB 619.0 kB/s eta 0:01:05\n",
      "   ---- ----------------------------------- 5.2/44.9 MB 619.0 kB/s eta 0:01:05\n",
      "   ---- ----------------------------------- 5.5/44.9 MB 588.7 kB/s eta 0:01:07\n",
      "   ---- ----------------------------------- 5.5/44.9 MB 588.7 kB/s eta 0:01:07\n",
      "   ---- ----------------------------------- 5.5/44.9 MB 588.7 kB/s eta 0:01:07\n",
      "   ---- ----------------------------------- 5.5/44.9 MB 588.7 kB/s eta 0:01:07\n",
      "   ----- ---------------------------------- 5.8/44.9 MB 566.5 kB/s eta 0:01:10\n",
      "   ----- ---------------------------------- 5.8/44.9 MB 566.5 kB/s eta 0:01:10\n",
      "   ----- ---------------------------------- 5.8/44.9 MB 566.5 kB/s eta 0:01:10\n",
      "   ----- ---------------------------------- 5.8/44.9 MB 566.5 kB/s eta 0:01:10\n",
      "   ----- ---------------------------------- 5.8/44.9 MB 566.5 kB/s eta 0:01:10\n",
      "   ----- ---------------------------------- 5.8/44.9 MB 566.5 kB/s eta 0:01:10\n",
      "   ----- ---------------------------------- 6.0/44.9 MB 522.1 kB/s eta 0:01:15\n",
      "   ----- ---------------------------------- 6.0/44.9 MB 522.1 kB/s eta 0:01:15\n",
      "   ----- ---------------------------------- 6.0/44.9 MB 522.1 kB/s eta 0:01:15\n",
      "   ----- ---------------------------------- 6.0/44.9 MB 522.1 kB/s eta 0:01:15\n",
      "   ----- ---------------------------------- 6.0/44.9 MB 522.1 kB/s eta 0:01:15\n",
      "   ----- ---------------------------------- 6.0/44.9 MB 522.1 kB/s eta 0:01:15\n",
      "   ----- ---------------------------------- 6.3/44.9 MB 487.8 kB/s eta 0:01:20\n",
      "   ----- ---------------------------------- 6.3/44.9 MB 487.8 kB/s eta 0:01:20\n",
      "   ----- ---------------------------------- 6.3/44.9 MB 487.8 kB/s eta 0:01:20\n",
      "   ----- ---------------------------------- 6.3/44.9 MB 487.8 kB/s eta 0:01:20\n",
      "   ----- ---------------------------------- 6.3/44.9 MB 487.8 kB/s eta 0:01:20\n",
      "   ----- ---------------------------------- 6.6/44.9 MB 469.9 kB/s eta 0:01:22\n",
      "   ----- ---------------------------------- 6.6/44.9 MB 469.9 kB/s eta 0:01:22\n",
      "   ----- ---------------------------------- 6.6/44.9 MB 469.9 kB/s eta 0:01:22\n",
      "   ----- ---------------------------------- 6.6/44.9 MB 469.9 kB/s eta 0:01:22\n",
      "   ------ --------------------------------- 6.8/44.9 MB 461.9 kB/s eta 0:01:23\n",
      "   ------ --------------------------------- 6.8/44.9 MB 461.9 kB/s eta 0:01:23\n",
      "   ------ --------------------------------- 6.8/44.9 MB 461.9 kB/s eta 0:01:23\n",
      "   ------ --------------------------------- 7.1/44.9 MB 457.7 kB/s eta 0:01:23\n",
      "   ------ --------------------------------- 7.1/44.9 MB 457.7 kB/s eta 0:01:23\n",
      "   ------ --------------------------------- 7.1/44.9 MB 457.7 kB/s eta 0:01:23\n",
      "   ------ --------------------------------- 7.3/44.9 MB 455.7 kB/s eta 0:01:23\n",
      "   ------ --------------------------------- 7.3/44.9 MB 455.7 kB/s eta 0:01:23\n",
      "   ------ --------------------------------- 7.6/44.9 MB 456.5 kB/s eta 0:01:22\n",
      "   ------ --------------------------------- 7.6/44.9 MB 456.5 kB/s eta 0:01:22\n",
      "   ------ --------------------------------- 7.6/44.9 MB 456.5 kB/s eta 0:01:22\n",
      "   ------- -------------------------------- 7.9/44.9 MB 457.7 kB/s eta 0:01:21\n",
      "   ------- -------------------------------- 7.9/44.9 MB 457.7 kB/s eta 0:01:21\n",
      "   ------- -------------------------------- 8.1/44.9 MB 460.1 kB/s eta 0:01:20\n",
      "   ------- -------------------------------- 8.1/44.9 MB 460.1 kB/s eta 0:01:20\n",
      "   ------- -------------------------------- 8.4/44.9 MB 464.0 kB/s eta 0:01:19\n",
      "   ------- -------------------------------- 8.4/44.9 MB 464.0 kB/s eta 0:01:19\n",
      "   ------- -------------------------------- 8.7/44.9 MB 468.1 kB/s eta 0:01:18\n",
      "   ------- -------------------------------- 8.9/44.9 MB 474.4 kB/s eta 0:01:16\n",
      "   ------- -------------------------------- 8.9/44.9 MB 474.4 kB/s eta 0:01:16\n",
      "   -------- ------------------------------- 9.2/44.9 MB 479.8 kB/s eta 0:01:15\n",
      "   -------- ------------------------------- 9.4/44.9 MB 488.1 kB/s eta 0:01:13\n",
      "   -------- ------------------------------- 9.7/44.9 MB 496.3 kB/s eta 0:01:11\n",
      "   -------- ------------------------------- 10.0/44.9 MB 504.7 kB/s eta 0:01:10\n",
      "   --------- ------------------------------ 10.2/44.9 MB 511.7 kB/s eta 0:01:08\n",
      "   --------- ------------------------------ 10.5/44.9 MB 519.3 kB/s eta 0:01:07\n",
      "   --------- ------------------------------ 10.5/44.9 MB 519.3 kB/s eta 0:01:07\n",
      "   --------- ------------------------------ 10.7/44.9 MB 525.1 kB/s eta 0:01:06\n",
      "   --------- ------------------------------ 11.0/44.9 MB 532.8 kB/s eta 0:01:04\n",
      "   ---------- ----------------------------- 11.3/44.9 MB 540.4 kB/s eta 0:01:03\n",
      "   ---------- ----------------------------- 11.5/44.9 MB 546.5 kB/s eta 0:01:02\n",
      "   ---------- ----------------------------- 11.8/44.9 MB 552.5 kB/s eta 0:01:00\n",
      "   ---------- ----------------------------- 12.1/44.9 MB 558.8 kB/s eta 0:00:59\n",
      "   ---------- ----------------------------- 12.3/44.9 MB 565.0 kB/s eta 0:00:58\n",
      "   ----------- ---------------------------- 12.6/44.9 MB 571.0 kB/s eta 0:00:57\n",
      "   ----------- ---------------------------- 12.8/44.9 MB 576.5 kB/s eta 0:00:56\n",
      "   ----------- ---------------------------- 13.1/44.9 MB 583.0 kB/s eta 0:00:55\n",
      "   ----------- ---------------------------- 13.4/44.9 MB 588.7 kB/s eta 0:00:54\n",
      "   ----------- ---------------------------- 13.4/44.9 MB 588.7 kB/s eta 0:00:54\n",
      "   ------------ --------------------------- 13.6/44.9 MB 593.8 kB/s eta 0:00:53\n",
      "   ------------ --------------------------- 13.9/44.9 MB 598.4 kB/s eta 0:00:52\n",
      "   ------------ --------------------------- 14.2/44.9 MB 603.3 kB/s eta 0:00:51\n",
      "   ------------ --------------------------- 14.4/44.9 MB 608.0 kB/s eta 0:00:51\n",
      "   ------------- -------------------------- 14.7/44.9 MB 612.7 kB/s eta 0:00:50\n",
      "   ------------- -------------------------- 14.7/44.9 MB 612.7 kB/s eta 0:00:50\n",
      "   ------------- -------------------------- 14.9/44.9 MB 617.3 kB/s eta 0:00:49\n",
      "   ------------- -------------------------- 15.2/44.9 MB 623.0 kB/s eta 0:00:48\n",
      "   ------------- -------------------------- 15.5/44.9 MB 626.6 kB/s eta 0:00:47\n",
      "   -------------- ------------------------- 15.7/44.9 MB 630.1 kB/s eta 0:00:47\n",
      "   -------------- ------------------------- 15.7/44.9 MB 630.1 kB/s eta 0:00:47\n",
      "   -------------- ------------------------- 16.0/44.9 MB 633.1 kB/s eta 0:00:46\n",
      "   -------------- ------------------------- 16.3/44.9 MB 637.6 kB/s eta 0:00:45\n",
      "   -------------- ------------------------- 16.5/44.9 MB 642.5 kB/s eta 0:00:45\n",
      "   -------------- ------------------------- 16.8/44.9 MB 646.5 kB/s eta 0:00:44\n",
      "   --------------- ------------------------ 17.0/44.9 MB 649.6 kB/s eta 0:00:43\n",
      "   --------------- ------------------------ 17.3/44.9 MB 654.6 kB/s eta 0:00:43\n",
      "   --------------- ------------------------ 17.6/44.9 MB 658.7 kB/s eta 0:00:42\n",
      "   --------------- ------------------------ 17.8/44.9 MB 663.2 kB/s eta 0:00:41\n",
      "   ---------------- ----------------------- 18.1/44.9 MB 666.8 kB/s eta 0:00:41\n",
      "   ---------------- ----------------------- 18.1/44.9 MB 666.8 kB/s eta 0:00:41\n",
      "   ---------------- ----------------------- 18.4/44.9 MB 670.3 kB/s eta 0:00:40\n",
      "   ---------------- ----------------------- 18.6/44.9 MB 674.6 kB/s eta 0:00:39\n",
      "   ---------------- ----------------------- 18.9/44.9 MB 678.4 kB/s eta 0:00:39\n",
      "   ----------------- ---------------------- 19.1/44.9 MB 682.1 kB/s eta 0:00:38\n",
      "   ----------------- ---------------------- 19.4/44.9 MB 685.0 kB/s eta 0:00:38\n",
      "   ----------------- ---------------------- 19.7/44.9 MB 687.8 kB/s eta 0:00:37\n",
      "   ----------------- ---------------------- 19.9/44.9 MB 692.1 kB/s eta 0:00:37\n",
      "   ----------------- ---------------------- 20.2/44.9 MB 697.5 kB/s eta 0:00:36\n",
      "   ------------------ --------------------- 20.4/44.9 MB 699.8 kB/s eta 0:00:35\n",
      "   ------------------ --------------------- 20.7/44.9 MB 703.6 kB/s eta 0:00:35\n",
      "   ------------------ --------------------- 21.0/44.9 MB 707.3 kB/s eta 0:00:34\n",
      "   ------------------ --------------------- 21.2/44.9 MB 711.3 kB/s eta 0:00:34\n",
      "   ------------------- -------------------- 21.5/44.9 MB 714.9 kB/s eta 0:00:33\n",
      "   ------------------- -------------------- 21.8/44.9 MB 718.4 kB/s eta 0:00:33\n",
      "   ------------------- -------------------- 22.0/44.9 MB 722.5 kB/s eta 0:00:32\n",
      "   ------------------- -------------------- 22.3/44.9 MB 726.4 kB/s eta 0:00:32\n",
      "   -------------------- ------------------- 22.5/44.9 MB 725.3 kB/s eta 0:00:31\n",
      "   -------------------- ------------------- 22.8/44.9 MB 718.8 kB/s eta 0:00:31\n",
      "   -------------------- ------------------- 23.1/44.9 MB 718.4 kB/s eta 0:00:31\n",
      "   -------------------- ------------------- 23.1/44.9 MB 718.4 kB/s eta 0:00:31\n",
      "   -------------------- ------------------- 23.3/44.9 MB 716.0 kB/s eta 0:00:31\n",
      "   --------------------- ------------------ 23.6/44.9 MB 718.4 kB/s eta 0:00:30\n",
      "   --------------------- ------------------ 23.9/44.9 MB 716.9 kB/s eta 0:00:30\n",
      "   --------------------- ------------------ 24.1/44.9 MB 716.7 kB/s eta 0:00:29\n",
      "   --------------------- ------------------ 24.4/44.9 MB 721.8 kB/s eta 0:00:29\n",
      "   --------------------- ------------------ 24.6/44.9 MB 727.1 kB/s eta 0:00:28\n",
      "   ---------------------- ----------------- 24.9/44.9 MB 729.8 kB/s eta 0:00:28\n",
      "   ---------------------- ----------------- 25.2/44.9 MB 734.4 kB/s eta 0:00:27\n",
      "   ---------------------- ----------------- 25.4/44.9 MB 737.5 kB/s eta 0:00:27\n",
      "   ---------------------- ----------------- 25.7/44.9 MB 750.4 kB/s eta 0:00:26\n",
      "   ----------------------- ---------------- 26.0/44.9 MB 754.9 kB/s eta 0:00:26\n",
      "   ----------------------- ---------------- 26.2/44.9 MB 757.4 kB/s eta 0:00:25\n",
      "   ----------------------- ---------------- 26.2/44.9 MB 757.4 kB/s eta 0:00:25\n",
      "   ----------------------- ---------------- 26.5/44.9 MB 769.5 kB/s eta 0:00:24\n",
      "   ----------------------- ---------------- 26.7/44.9 MB 771.9 kB/s eta 0:00:24\n",
      "   ------------------------ --------------- 27.0/44.9 MB 773.0 kB/s eta 0:00:24\n",
      "   ------------------------ --------------- 27.0/44.9 MB 773.0 kB/s eta 0:00:24\n",
      "   ------------------------ --------------- 27.3/44.9 MB 785.3 kB/s eta 0:00:23\n",
      "   ------------------------ --------------- 27.5/44.9 MB 788.4 kB/s eta 0:00:23\n",
      "   ------------------------ --------------- 27.8/44.9 MB 791.8 kB/s eta 0:00:22\n",
      "   ------------------------ --------------- 28.0/44.9 MB 796.0 kB/s eta 0:00:22\n",
      "   ------------------------- -------------- 28.3/44.9 MB 806.5 kB/s eta 0:00:21\n",
      "   ------------------------- -------------- 28.6/44.9 MB 809.8 kB/s eta 0:00:21\n",
      "   ------------------------- -------------- 28.8/44.9 MB 820.6 kB/s eta 0:00:20\n",
      "   ------------------------- -------------- 29.1/44.9 MB 822.9 kB/s eta 0:00:20\n",
      "   -------------------------- ------------- 29.4/44.9 MB 827.0 kB/s eta 0:00:19\n",
      "   -------------------------- ------------- 29.6/44.9 MB 834.9 kB/s eta 0:00:19\n",
      "   -------------------------- ------------- 29.9/44.9 MB 838.0 kB/s eta 0:00:18\n",
      "   -------------------------- ------------- 30.1/44.9 MB 840.6 kB/s eta 0:00:18\n",
      "   --------------------------- ------------ 30.4/44.9 MB 851.7 kB/s eta 0:00:18\n",
      "   --------------------------- ------------ 30.7/44.9 MB 855.2 kB/s eta 0:00:17\n",
      "   --------------------------- ------------ 30.9/44.9 MB 858.6 kB/s eta 0:00:17\n",
      "   --------------------------- ------------ 31.2/44.9 MB 876.0 kB/s eta 0:00:16\n",
      "   ---------------------------- ----------- 31.5/44.9 MB 877.9 kB/s eta 0:00:16\n",
      "   ---------------------------- ----------- 31.7/44.9 MB 877.5 kB/s eta 0:00:16\n",
      "   ---------------------------- ----------- 31.7/44.9 MB 877.5 kB/s eta 0:00:16\n",
      "   ---------------------------- ----------- 32.0/44.9 MB 893.3 kB/s eta 0:00:15\n",
      "   ---------------------------- ----------- 32.2/44.9 MB 895.6 kB/s eta 0:00:15\n",
      "   ---------------------------- ----------- 32.5/44.9 MB 897.8 kB/s eta 0:00:14\n",
      "   ----------------------------- ---------- 32.8/44.9 MB 900.5 kB/s eta 0:00:14\n",
      "   ----------------------------- ---------- 33.0/44.9 MB 935.6 kB/s eta 0:00:13\n",
      "   ----------------------------- ---------- 33.6/44.9 MB 941.0 kB/s eta 0:00:13\n",
      "   ----------------------------- ---------- 33.6/44.9 MB 941.0 kB/s eta 0:00:13\n",
      "   ------------------------------ --------- 33.8/44.9 MB 942.4 kB/s eta 0:00:12\n",
      "   ------------------------------ --------- 34.1/44.9 MB 942.8 kB/s eta 0:00:12\n",
      "   ------------------------------ --------- 34.3/44.9 MB 976.7 kB/s eta 0:00:11\n",
      "   ------------------------------ --------- 34.6/44.9 MB 976.8 kB/s eta 0:00:11\n",
      "   ------------------------------- -------- 34.9/44.9 MB 977.4 kB/s eta 0:00:11\n",
      "   ------------------------------- -------- 34.9/44.9 MB 977.4 kB/s eta 0:00:11\n",
      "   ------------------------------- -------- 35.1/44.9 MB 977.0 kB/s eta 0:00:11\n",
      "   ------------------------------- -------- 35.4/44.9 MB 978.6 kB/s eta 0:00:10\n",
      "   ------------------------------- -------- 35.7/44.9 MB 980.2 kB/s eta 0:00:10\n",
      "   ------------------------------- -------- 35.9/44.9 MB 1.0 MB/s eta 0:00:09\n",
      "   -------------------------------- ------- 36.2/44.9 MB 1.0 MB/s eta 0:00:09\n",
      "   -------------------------------- ------- 36.4/44.9 MB 1.0 MB/s eta 0:00:09\n",
      "   -------------------------------- ------- 36.7/44.9 MB 1.0 MB/s eta 0:00:09\n",
      "   -------------------------------- ------- 37.0/44.9 MB 1.0 MB/s eta 0:00:08\n",
      "   --------------------------------- ------ 37.2/44.9 MB 1.0 MB/s eta 0:00:08\n",
      "   --------------------------------- ------ 37.5/44.9 MB 1.0 MB/s eta 0:00:08\n",
      "   --------------------------------- ------ 37.7/44.9 MB 1.0 MB/s eta 0:00:07\n",
      "   --------------------------------- ------ 37.7/44.9 MB 1.0 MB/s eta 0:00:07\n",
      "   --------------------------------- ------ 38.0/44.9 MB 1.0 MB/s eta 0:00:07\n",
      "   ---------------------------------- ----- 38.3/44.9 MB 1.0 MB/s eta 0:00:07\n",
      "   ---------------------------------- ----- 38.5/44.9 MB 1.0 MB/s eta 0:00:07\n",
      "   ---------------------------------- ----- 38.8/44.9 MB 1.1 MB/s eta 0:00:06\n",
      "   ---------------------------------- ----- 39.1/44.9 MB 1.1 MB/s eta 0:00:06\n",
      "   ----------------------------------- ---- 39.3/44.9 MB 1.1 MB/s eta 0:00:06\n",
      "   ----------------------------------- ---- 39.6/44.9 MB 1.1 MB/s eta 0:00:05\n",
      "   ----------------------------------- ---- 39.8/44.9 MB 1.1 MB/s eta 0:00:05\n",
      "   ----------------------------------- ---- 40.1/44.9 MB 1.1 MB/s eta 0:00:05\n",
      "   ----------------------------------- ---- 40.4/44.9 MB 1.1 MB/s eta 0:00:05\n",
      "   ------------------------------------ --- 40.6/44.9 MB 1.1 MB/s eta 0:00:04\n",
      "   ------------------------------------ --- 40.9/44.9 MB 1.1 MB/s eta 0:00:04\n",
      "   ------------------------------------ --- 41.2/44.9 MB 1.1 MB/s eta 0:00:04\n",
      "   ------------------------------------ --- 41.4/44.9 MB 1.1 MB/s eta 0:00:04\n",
      "   ------------------------------------ --- 41.4/44.9 MB 1.1 MB/s eta 0:00:04\n",
      "   ------------------------------------- -- 41.9/44.9 MB 1.1 MB/s eta 0:00:03\n",
      "   ------------------------------------- -- 42.2/44.9 MB 1.1 MB/s eta 0:00:03\n",
      "   ------------------------------------- -- 42.5/44.9 MB 1.1 MB/s eta 0:00:03\n",
      "   -------------------------------------- - 42.7/44.9 MB 1.1 MB/s eta 0:00:02\n",
      "   -------------------------------------- - 43.0/44.9 MB 1.1 MB/s eta 0:00:02\n",
      "   -------------------------------------- - 43.3/44.9 MB 1.1 MB/s eta 0:00:02\n",
      "   -------------------------------------- - 43.5/44.9 MB 1.1 MB/s eta 0:00:02\n",
      "   -------------------------------------- - 43.5/44.9 MB 1.1 MB/s eta 0:00:02\n",
      "   ---------------------------------------  44.0/44.9 MB 1.1 MB/s eta 0:00:01\n",
      "   ---------------------------------------  44.3/44.9 MB 1.1 MB/s eta 0:00:01\n",
      "   ---------------------------------------  44.6/44.9 MB 1.1 MB/s eta 0:00:01\n",
      "   ---------------------------------------  44.8/44.9 MB 1.1 MB/s eta 0:00:01\n",
      "   ---------------------------------------  44.8/44.9 MB 1.1 MB/s eta 0:00:01\n",
      "   ---------------------------------------- 44.9/44.9 MB 1.1 MB/s eta 0:00:00\n",
      "Installing collected packages: opencv-contrib-python\n",
      "Successfully installed opencv-contrib-python-4.7.0.72\n"
     ]
    }
   ],
   "source": [
    "!pip uninstall opencv-contrib-python -y\n",
    "!pip install opencv-contrib-python==4.7.0.72\n"
   ]
  },
  {
   "cell_type": "code",
   "execution_count": 14,
   "id": "a9b23bae-4917-41ae-8932-0afacea45fc7",
   "metadata": {},
   "outputs": [
    {
     "name": "stdout",
     "output_type": "stream",
     "text": [
      "Collecting matplotlib\n",
      "  Downloading matplotlib-3.10.3-cp310-cp310-win_amd64.whl.metadata (11 kB)\n",
      "Collecting contourpy>=1.0.1 (from matplotlib)\n",
      "  Downloading contourpy-1.3.2-cp310-cp310-win_amd64.whl.metadata (5.5 kB)\n",
      "Collecting cycler>=0.10 (from matplotlib)\n",
      "  Downloading cycler-0.12.1-py3-none-any.whl.metadata (3.8 kB)\n",
      "Collecting fonttools>=4.22.0 (from matplotlib)\n",
      "  Downloading fonttools-4.58.5-cp310-cp310-win_amd64.whl.metadata (109 kB)\n",
      "Collecting kiwisolver>=1.3.1 (from matplotlib)\n",
      "  Downloading kiwisolver-1.4.8-cp310-cp310-win_amd64.whl.metadata (6.3 kB)\n",
      "Requirement already satisfied: numpy>=1.23 in c:\\users\\syscom\\appdata\\local\\programs\\python\\python310\\lib\\site-packages (from matplotlib) (1.23.5)\n",
      "Requirement already satisfied: packaging>=20.0 in c:\\users\\syscom\\appdata\\local\\programs\\python\\python310\\lib\\site-packages (from matplotlib) (25.0)\n",
      "Requirement already satisfied: pillow>=8 in c:\\users\\syscom\\appdata\\local\\programs\\python\\python310\\lib\\site-packages (from matplotlib) (11.3.0)\n",
      "Collecting pyparsing>=2.3.1 (from matplotlib)\n",
      "  Downloading pyparsing-3.2.3-py3-none-any.whl.metadata (5.0 kB)\n",
      "Requirement already satisfied: python-dateutil>=2.7 in c:\\users\\syscom\\appdata\\local\\programs\\python\\python310\\lib\\site-packages (from matplotlib) (2.9.0.post0)\n",
      "Requirement already satisfied: six>=1.5 in c:\\users\\syscom\\appdata\\local\\programs\\python\\python310\\lib\\site-packages (from python-dateutil>=2.7->matplotlib) (1.17.0)\n",
      "Downloading matplotlib-3.10.3-cp310-cp310-win_amd64.whl (8.1 MB)\n",
      "   ---------------------------------------- 0.0/8.1 MB ? eta -:--:--\n",
      "   ---------------------------------------- 0.0/8.1 MB ? eta -:--:--\n",
      "   - -------------------------------------- 0.3/8.1 MB ? eta -:--:--\n",
      "   -- ------------------------------------- 0.5/8.1 MB 989.2 kB/s eta 0:00:08\n",
      "   -- ------------------------------------- 0.5/8.1 MB 989.2 kB/s eta 0:00:08\n",
      "   --- ------------------------------------ 0.8/8.1 MB 1.0 MB/s eta 0:00:08\n",
      "   ----- ---------------------------------- 1.0/8.1 MB 1.0 MB/s eta 0:00:07\n",
      "   ------ --------------------------------- 1.3/8.1 MB 1.1 MB/s eta 0:00:07\n",
      "   ------- -------------------------------- 1.6/8.1 MB 1.0 MB/s eta 0:00:07\n",
      "   --------- ------------------------------ 1.8/8.1 MB 1.1 MB/s eta 0:00:06\n",
      "   ---------- ----------------------------- 2.1/8.1 MB 1.0 MB/s eta 0:00:06\n",
      "   ----------- ---------------------------- 2.4/8.1 MB 1.1 MB/s eta 0:00:06\n",
      "   ------------- -------------------------- 2.6/8.1 MB 1.1 MB/s eta 0:00:06\n",
      "   -------------- ------------------------- 2.9/8.1 MB 1.1 MB/s eta 0:00:05\n",
      "   --------------- ------------------------ 3.1/8.1 MB 1.1 MB/s eta 0:00:05\n",
      "   ---------------- ----------------------- 3.4/8.1 MB 1.1 MB/s eta 0:00:05\n",
      "   ------------------ --------------------- 3.7/8.1 MB 1.1 MB/s eta 0:00:04\n",
      "   ------------------- -------------------- 3.9/8.1 MB 1.1 MB/s eta 0:00:04\n",
      "   -------------------- ------------------- 4.2/8.1 MB 1.1 MB/s eta 0:00:04\n",
      "   ---------------------- ----------------- 4.5/8.1 MB 1.1 MB/s eta 0:00:04\n",
      "   ---------------------- ----------------- 4.5/8.1 MB 1.1 MB/s eta 0:00:04\n",
      "   ----------------------- ---------------- 4.7/8.1 MB 1.1 MB/s eta 0:00:04\n",
      "   ----------------------- ---------------- 4.7/8.1 MB 1.1 MB/s eta 0:00:04\n",
      "   -------------------------- ------------- 5.2/8.1 MB 1.1 MB/s eta 0:00:03\n",
      "   -------------------------- ------------- 5.2/8.1 MB 1.1 MB/s eta 0:00:03\n",
      "   --------------------------- ------------ 5.5/8.1 MB 1.0 MB/s eta 0:00:03\n",
      "   --------------------------- ------------ 5.5/8.1 MB 1.0 MB/s eta 0:00:03\n",
      "   ---------------------------- ----------- 5.8/8.1 MB 1.0 MB/s eta 0:00:03\n",
      "   ----------------------------- ---------- 6.0/8.1 MB 1.0 MB/s eta 0:00:02\n",
      "   ------------------------------- -------- 6.3/8.1 MB 1.0 MB/s eta 0:00:02\n",
      "   ------------------------------- -------- 6.3/8.1 MB 1.0 MB/s eta 0:00:02\n",
      "   -------------------------------- ------- 6.6/8.1 MB 1.0 MB/s eta 0:00:02\n",
      "   --------------------------------- ------ 6.8/8.1 MB 1.0 MB/s eta 0:00:02\n",
      "   --------------------------------- ------ 6.8/8.1 MB 1.0 MB/s eta 0:00:02\n",
      "   ----------------------------------- ---- 7.1/8.1 MB 989.2 kB/s eta 0:00:01\n",
      "   ------------------------------------ --- 7.3/8.1 MB 982.6 kB/s eta 0:00:01\n",
      "   ------------------------------------ --- 7.3/8.1 MB 982.6 kB/s eta 0:00:01\n",
      "   ------------------------------------- -- 7.6/8.1 MB 980.8 kB/s eta 0:00:01\n",
      "   ---------------------------------------  7.9/8.1 MB 979.0 kB/s eta 0:00:01\n",
      "   ---------------------------------------- 8.1/8.1 MB 963.2 kB/s eta 0:00:00\n",
      "Downloading contourpy-1.3.2-cp310-cp310-win_amd64.whl (221 kB)\n",
      "Downloading cycler-0.12.1-py3-none-any.whl (8.3 kB)\n",
      "Downloading fonttools-4.58.5-cp310-cp310-win_amd64.whl (2.2 MB)\n",
      "   ---------------------------------------- 0.0/2.2 MB ? eta -:--:--\n",
      "   ---------------------------------------- 0.0/2.2 MB ? eta -:--:--\n",
      "   ---- ----------------------------------- 0.3/2.2 MB ? eta -:--:--\n",
      "   --------- ------------------------------ 0.5/2.2 MB 932.9 kB/s eta 0:00:02\n",
      "   --------- ------------------------------ 0.5/2.2 MB 932.9 kB/s eta 0:00:02\n",
      "   ------------- -------------------------- 0.8/2.2 MB 884.1 kB/s eta 0:00:02\n",
      "   ------------------ --------------------- 1.0/2.2 MB 915.5 kB/s eta 0:00:02\n",
      "   ----------------------- ---------------- 1.3/2.2 MB 932.1 kB/s eta 0:00:02\n",
      "   --------------------------- ------------ 1.6/2.2 MB 921.7 kB/s eta 0:00:01\n",
      "   --------------------------- ------------ 1.6/2.2 MB 921.7 kB/s eta 0:00:01\n",
      "   -------------------------------- ------- 1.8/2.2 MB 923.6 kB/s eta 0:00:01\n",
      "   ------------------------------------- -- 2.1/2.2 MB 903.5 kB/s eta 0:00:01\n",
      "   ---------------------------------------- 2.2/2.2 MB 864.3 kB/s eta 0:00:00\n",
      "Downloading kiwisolver-1.4.8-cp310-cp310-win_amd64.whl (71 kB)\n",
      "Downloading pyparsing-3.2.3-py3-none-any.whl (111 kB)\n",
      "Installing collected packages: pyparsing, kiwisolver, fonttools, cycler, contourpy, matplotlib\n",
      "\n",
      "   ---------------------------------------- 0/6 [pyparsing]\n",
      "   ---------------------------------------- 0/6 [pyparsing]\n",
      "   ------------- -------------------------- 2/6 [fonttools]\n",
      "   ------------- -------------------------- 2/6 [fonttools]\n",
      "   ------------- -------------------------- 2/6 [fonttools]\n",
      "   ------------- -------------------------- 2/6 [fonttools]\n",
      "   ------------- -------------------------- 2/6 [fonttools]\n",
      "   ------------- -------------------------- 2/6 [fonttools]\n",
      "   ------------- -------------------------- 2/6 [fonttools]\n",
      "   ------------- -------------------------- 2/6 [fonttools]\n",
      "   ------------- -------------------------- 2/6 [fonttools]\n",
      "   ------------- -------------------------- 2/6 [fonttools]\n",
      "   ------------- -------------------------- 2/6 [fonttools]\n",
      "   ------------- -------------------------- 2/6 [fonttools]\n",
      "   ------------- -------------------------- 2/6 [fonttools]\n",
      "   ------------- -------------------------- 2/6 [fonttools]\n",
      "   ------------- -------------------------- 2/6 [fonttools]\n",
      "   ------------- -------------------------- 2/6 [fonttools]\n",
      "   ------------- -------------------------- 2/6 [fonttools]\n",
      "   ------------- -------------------------- 2/6 [fonttools]\n",
      "   ------------- -------------------------- 2/6 [fonttools]\n",
      "   ------------- -------------------------- 2/6 [fonttools]\n",
      "   ------------- -------------------------- 2/6 [fonttools]\n",
      "   ------------- -------------------------- 2/6 [fonttools]\n",
      "   ------------- -------------------------- 2/6 [fonttools]\n",
      "   ------------- -------------------------- 2/6 [fonttools]\n",
      "   ------------- -------------------------- 2/6 [fonttools]\n",
      "   ------------- -------------------------- 2/6 [fonttools]\n",
      "   ------------- -------------------------- 2/6 [fonttools]\n",
      "   ------------- -------------------------- 2/6 [fonttools]\n",
      "   ------------- -------------------------- 2/6 [fonttools]\n",
      "   ------------- -------------------------- 2/6 [fonttools]\n",
      "   ------------- -------------------------- 2/6 [fonttools]\n",
      "   ------------- -------------------------- 2/6 [fonttools]\n",
      "   ------------- -------------------------- 2/6 [fonttools]\n",
      "   ------------- -------------------------- 2/6 [fonttools]\n",
      "   ------------- -------------------------- 2/6 [fonttools]\n",
      "   ------------- -------------------------- 2/6 [fonttools]\n",
      "   ------------- -------------------------- 2/6 [fonttools]\n",
      "   ------------- -------------------------- 2/6 [fonttools]\n",
      "   ------------- -------------------------- 2/6 [fonttools]\n",
      "   ------------- -------------------------- 2/6 [fonttools]\n",
      "   ------------- -------------------------- 2/6 [fonttools]\n",
      "   ------------- -------------------------- 2/6 [fonttools]\n",
      "   ------------- -------------------------- 2/6 [fonttools]\n",
      "   ------------- -------------------------- 2/6 [fonttools]\n",
      "   ------------- -------------------------- 2/6 [fonttools]\n",
      "   ------------- -------------------------- 2/6 [fonttools]\n",
      "   -------------------------- ------------- 4/6 [contourpy]\n",
      "   -------------------------- ------------- 4/6 [contourpy]\n",
      "   --------------------------------- ------ 5/6 [matplotlib]\n",
      "   --------------------------------- ------ 5/6 [matplotlib]\n",
      "   --------------------------------- ------ 5/6 [matplotlib]\n",
      "   --------------------------------- ------ 5/6 [matplotlib]\n",
      "   --------------------------------- ------ 5/6 [matplotlib]\n",
      "   --------------------------------- ------ 5/6 [matplotlib]\n",
      "   --------------------------------- ------ 5/6 [matplotlib]\n",
      "   --------------------------------- ------ 5/6 [matplotlib]\n",
      "   --------------------------------- ------ 5/6 [matplotlib]\n",
      "   --------------------------------- ------ 5/6 [matplotlib]\n",
      "   --------------------------------- ------ 5/6 [matplotlib]\n",
      "   --------------------------------- ------ 5/6 [matplotlib]\n",
      "   --------------------------------- ------ 5/6 [matplotlib]\n",
      "   --------------------------------- ------ 5/6 [matplotlib]\n",
      "   --------------------------------- ------ 5/6 [matplotlib]\n",
      "   --------------------------------- ------ 5/6 [matplotlib]\n",
      "   --------------------------------- ------ 5/6 [matplotlib]\n",
      "   --------------------------------- ------ 5/6 [matplotlib]\n",
      "   --------------------------------- ------ 5/6 [matplotlib]\n",
      "   --------------------------------- ------ 5/6 [matplotlib]\n",
      "   --------------------------------- ------ 5/6 [matplotlib]\n",
      "   --------------------------------- ------ 5/6 [matplotlib]\n",
      "   --------------------------------- ------ 5/6 [matplotlib]\n",
      "   --------------------------------- ------ 5/6 [matplotlib]\n",
      "   --------------------------------- ------ 5/6 [matplotlib]\n",
      "   --------------------------------- ------ 5/6 [matplotlib]\n",
      "   --------------------------------- ------ 5/6 [matplotlib]\n",
      "   --------------------------------- ------ 5/6 [matplotlib]\n",
      "   --------------------------------- ------ 5/6 [matplotlib]\n",
      "   --------------------------------- ------ 5/6 [matplotlib]\n",
      "   --------------------------------- ------ 5/6 [matplotlib]\n",
      "   --------------------------------- ------ 5/6 [matplotlib]\n",
      "   --------------------------------- ------ 5/6 [matplotlib]\n",
      "   --------------------------------- ------ 5/6 [matplotlib]\n",
      "   --------------------------------- ------ 5/6 [matplotlib]\n",
      "   --------------------------------- ------ 5/6 [matplotlib]\n",
      "   --------------------------------- ------ 5/6 [matplotlib]\n",
      "   --------------------------------- ------ 5/6 [matplotlib]\n",
      "   --------------------------------- ------ 5/6 [matplotlib]\n",
      "   --------------------------------- ------ 5/6 [matplotlib]\n",
      "   --------------------------------- ------ 5/6 [matplotlib]\n",
      "   --------------------------------- ------ 5/6 [matplotlib]\n",
      "   --------------------------------- ------ 5/6 [matplotlib]\n",
      "   --------------------------------- ------ 5/6 [matplotlib]\n",
      "   --------------------------------- ------ 5/6 [matplotlib]\n",
      "   --------------------------------- ------ 5/6 [matplotlib]\n",
      "   --------------------------------- ------ 5/6 [matplotlib]\n",
      "   --------------------------------- ------ 5/6 [matplotlib]\n",
      "   --------------------------------- ------ 5/6 [matplotlib]\n",
      "   --------------------------------- ------ 5/6 [matplotlib]\n",
      "   --------------------------------- ------ 5/6 [matplotlib]\n",
      "   --------------------------------- ------ 5/6 [matplotlib]\n",
      "   --------------------------------- ------ 5/6 [matplotlib]\n",
      "   --------------------------------- ------ 5/6 [matplotlib]\n",
      "   --------------------------------- ------ 5/6 [matplotlib]\n",
      "   ---------------------------------------- 6/6 [matplotlib]\n",
      "\n",
      "Successfully installed contourpy-1.3.2 cycler-0.12.1 fonttools-4.58.5 kiwisolver-1.4.8 matplotlib-3.10.3 pyparsing-3.2.3\n"
     ]
    }
   ],
   "source": [
    "!pip install matplotlib\n"
   ]
  },
  {
   "cell_type": "code",
   "execution_count": null,
   "id": "f21c2724-71f1-4343-b3e0-d965e6d268bc",
   "metadata": {},
   "outputs": [],
   "source": []
  }
 ],
 "metadata": {
  "kernelspec": {
   "display_name": "Python 3 (ipykernel)",
   "language": "python",
   "name": "python3"
  },
  "language_info": {
   "codemirror_mode": {
    "name": "ipython",
    "version": 3
   },
   "file_extension": ".py",
   "mimetype": "text/x-python",
   "name": "python",
   "nbconvert_exporter": "python",
   "pygments_lexer": "ipython3",
   "version": "3.10.7"
  }
 },
 "nbformat": 4,
 "nbformat_minor": 5
}
